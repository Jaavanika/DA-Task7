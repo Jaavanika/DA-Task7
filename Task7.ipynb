{
 "cells": [
  {
   "cell_type": "code",
   "execution_count": 5,
   "id": "afef219d-b9ee-4514-a15b-6a76d2c33072",
   "metadata": {},
   "outputs": [],
   "source": [
    "import sqlite3\n",
    "\n",
    "conn = sqlite3.connect(\"sales_data.db\")\n"
   ]
  },
  {
   "cell_type": "code",
   "execution_count": 6,
   "id": "8b0aa6e6-76ce-4a08-a060-65f5077edfd4",
   "metadata": {},
   "outputs": [],
   "source": [
    "cursor = conn.cursor()\n",
    "\n",
    "cursor.execute(\"DROP TABLE IF EXISTS sales\")\n",
    "\n",
    "cursor.execute(\"\"\"\n",
    "CREATE TABLE sales (\n",
    "    id INTEGER PRIMARY KEY,\n",
    "    date TEXT,\n",
    "    product TEXT,\n",
    "    category TEXT,\n",
    "    region TEXT,\n",
    "    quantity INTEGER,\n",
    "    price REAL\n",
    ")\n",
    "\"\"\")\n",
    "\n",
    "sample_data = [\n",
    "    ('2024-06-01', 'Laptop', 'Electronics', 'North', 5, 750.0),\n",
    "    ('2024-06-01', 'Phone', 'Electronics', 'East', 8, 500.0),\n",
    "    ('2024-06-02', 'Tablet', 'Electronics', 'West', 3, 300.0),\n",
    "    ('2024-06-03', 'Monitor', 'Electronics', 'South', 6, 200.0),\n",
    "    ('2024-06-03', 'Keyboard', 'Accessories', 'North', 15, 40.0),\n",
    "    ('2024-06-04', 'Mouse', 'Accessories', 'East', 20, 25.0),\n",
    "    ('2024-06-05', 'Laptop', 'Electronics', 'West', 4, 750.0),\n",
    "    ('2024-06-05', 'Tablet', 'Electronics', 'South', 2, 300.0),\n",
    "    ('2024-06-06', 'Phone', 'Electronics', 'North', 7, 500.0),\n",
    "    ('2024-06-07', 'Monitor', 'Electronics', 'East', 5, 200.0),\n",
    "    ('2024-06-07', 'Mouse', 'Accessories', 'West', 10, 25.0),\n",
    "]\n",
    "\n",
    "cursor.executemany(\"\"\"\n",
    "INSERT INTO sales (date, product, category, region, quantity, price) \n",
    "VALUES (?, ?, ?, ?, ?, ?)\n",
    "\"\"\", sample_data)\n",
    "\n",
    "conn.commit()\n"
   ]
  },
  {
   "cell_type": "code",
   "execution_count": 7,
   "id": "89fc5c51-9704-46c9-a8fe-5f68522678a0",
   "metadata": {},
   "outputs": [],
   "source": [
    "import pandas as pd\n",
    "\n",
    "query = \"\"\"\n",
    "SELECT \n",
    "    product,\n",
    "    category,\n",
    "    region,\n",
    "    SUM(quantity) AS total_quantity,\n",
    "    ROUND(SUM(quantity * price), 2) AS total_revenue,\n",
    "    COUNT(*) AS transactions\n",
    "FROM sales\n",
    "GROUP BY product, category, region\n",
    "ORDER BY total_revenue DESC\n",
    "\"\"\"\n",
    "\n",
    "df = pd.read_sql_query(query, conn)"
   ]
  },
  {
   "cell_type": "code",
   "execution_count": 8,
   "id": "f9d1851f-113d-48ce-9815-80eb00c0fdf1",
   "metadata": {},
   "outputs": [
    {
     "name": "stdout",
     "output_type": "stream",
     "text": [
      "Sales Summary:\n",
      "\n",
      "     product     category region  total_quantity  total_revenue  transactions\n",
      "0      Phone  Electronics   East               8         4000.0             1\n",
      "1     Laptop  Electronics  North               5         3750.0             1\n",
      "2      Phone  Electronics  North               7         3500.0             1\n",
      "3     Laptop  Electronics   West               4         3000.0             1\n",
      "4    Monitor  Electronics  South               6         1200.0             1\n",
      "5    Monitor  Electronics   East               5         1000.0             1\n",
      "6     Tablet  Electronics   West               3          900.0             1\n",
      "7   Keyboard  Accessories  North              15          600.0             1\n",
      "8     Tablet  Electronics  South               2          600.0             1\n",
      "9      Mouse  Accessories   East              20          500.0             1\n",
      "10     Mouse  Accessories   West              10          250.0             1\n"
     ]
    }
   ],
   "source": [
    "print(\"Sales Summary:\\n\")\n",
    "print(df)\n"
   ]
  },
  {
   "cell_type": "code",
   "execution_count": null,
   "id": "e029051d-aa13-4fdf-99fa-3d886c14026f",
   "metadata": {},
   "outputs": [],
   "source": [
    "import matplotlib.pyplot as plt\n",
    "\n",
    "# Summarize revenue by product\n",
    "chart_data = df.groupby('product')['total_revenue'].sum().reset_index()\n",
    "\n",
    "# Plotting\n",
    "chart_data.plot(kind='bar', x='product', y='total_revenue', legend=False, color='coral')\n",
    "\n",
    "# Styling\n",
    "plt.title(\"Total Revenue by Product\")\n",
    "plt.xlabel(\"Product\")\n",
    "plt.ylabel(\"Revenue\")\n",
    "plt.tight_layout()\n",
    "\n",
    "# Show the chart\n",
    "plt.show()\n",
    "\n",
    "# Optional: Save chart\n",
    "# plt.savefig(\"sales_chart.png\")\n"
   ]
  }
 ],
 "metadata": {
  "kernelspec": {
   "display_name": "Python 3 (ipykernel)",
   "language": "python",
   "name": "python3"
  },
  "language_info": {
   "codemirror_mode": {
    "name": "ipython",
    "version": 3
   },
   "file_extension": ".py",
   "mimetype": "text/x-python",
   "name": "python",
   "nbconvert_exporter": "python",
   "pygments_lexer": "ipython3",
   "version": "3.11.0rc2"
  }
 },
 "nbformat": 4,
 "nbformat_minor": 5
}
